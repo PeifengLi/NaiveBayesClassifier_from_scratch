{
 "cells": [
  {
   "cell_type": "code",
   "execution_count": 1,
   "metadata": {},
   "outputs": [],
   "source": [
    "import numpy as np\n",
    "import pandas as pd\n",
    "import scipy.stats as stats\n",
    "import matplotlib.pyplot as plt\n",
    "import seaborn as sns\n",
    "import warnings\n",
    "warnings.filterwarnings(\"ignore\")\n",
    "sns.set(style=\"whitegrid\")\n",
    "colors = [\"#EC7063\",\"#AF7AC5\",\"#7FB3D5\",\"#1E8449\"]"
   ]
  },
  {
   "cell_type": "markdown",
   "metadata": {},
   "source": [
    "## Naïve Bayes Classifier from scratch"
   ]
  },
  {
   "cell_type": "code",
   "execution_count": 2,
   "metadata": {},
   "outputs": [],
   "source": [
    "# Build Naïve Bayes Classifier\n",
    "class NaiveBayesClassifier():\n",
    "    '''\n",
    "    Bayes Theorem form\n",
    "    P(y|X) = P(X|y) * P(y) / P(X)\n",
    "    where P(y) is the Prior, P(X|y) is the Likelihood, P(X) is Normalizing Constant given by\n",
    "    P(X) = Σ P(X|y)*P(y) and P(y|X) is the Posterior that we need to calculate\n",
    "    '''\n",
    "    def calc_prior(self, features, target):\n",
    "        '''\n",
    "        calculate prior probabilities P(y)\n",
    "        '''\n",
    "        self.prior = (features.groupby(target).apply(lambda x:len(x))/self.rows).to_numpy()\n",
    "        \n",
    "        return self.prior\n",
    "    \n",
    "    def calc_statistics(self, features, target):\n",
    "        '''\n",
    "        calculate mean, variance for each column and convert to numpy array\n",
    "        '''\n",
    "        self.mean = features.groupby(target).apply(np.mean).to_numpy()\n",
    "        self.var = features.groupby(target).apply(np.var).to_numpy()\n",
    "        \n",
    "        return self.mean, self.var\n",
    "    \n",
    "    def gaussian_density(self, class_idx, x):\n",
    "        '''\n",
    "        calculate probability from gaussian density function (normally distributed)\n",
    "        assume that probability of specific target value given specific class is normally distributed\n",
    "        \n",
    "        formula:\n",
    "        (1/√2pi*σ) * exp((-1/2)*((x-μ)^2)/(2*σ²)), where μ is mean, σ² is variance, σ is quare root of variance (standard deviation)\n",
    "        '''\n",
    "        mean = self.mean[class_idx]\n",
    "        var = self.var[class_idx]\n",
    "        numerator = np.exp((-1/2)*((x-mean)**2)/(2*var))\n",
    "        denominator = np.sqrt(2 * np.pi * var)\n",
    "        prob = numerator / denominator\n",
    "        return prob\n",
    "    \n",
    "    def calc_posterior(self, x):\n",
    "        posteriors = []\n",
    "        \n",
    "        # calculate posterior probability for each class\n",
    "        for i in range(self.count):\n",
    "            # use log to make it numerically stable \n",
    "            prior = np.log(self.prior[i])\n",
    "            conditional = np.sum(np.log(self.gaussian_density(i, x)))\n",
    "            posterior = prior + conditional\n",
    "            posteriors.append(posterior)\n",
    "        # return class  =with highest posterior probalibity\n",
    "        return self.classes[np.argmax(posteriors)]\n",
    "    \n",
    "    def fit(self, features, target):\n",
    "        self.classes = np.unique(target)\n",
    "        self.count = len(self.classes)\n",
    "        self.feature_nums = features.shape[1]\n",
    "        self.rows = features.shape[0]\n",
    "        self.calc_statistics(features, target)\n",
    "        self.calc_prior(features, target)\n",
    "        \n",
    "    def predict(self, features):\n",
    "        preds = [self.calc_posterior(f) for f in features.to_numpy()]\n",
    "        return preds\n",
    "    \n",
    "    def accuracy(self, y_test, y_pred):\n",
    "        accuracy = np.sum(y_test == y_pred) / len(y_test)\n",
    "        return accuracy\n",
    "    \n",
    "    def visualize(self, y_true, y_pred, target):\n",
    "        \n",
    "        tr = pd.DataFrame(data=y_true, columns=[target])\n",
    "        pr = pd.DataFrame(data=y_pred, columns=[target])\n",
    "        \n",
    "        fig, ax = plt.subplots(1, 2, sharex='col', sharey='row', figsize = (16,5))\n",
    "        \n",
    "        sns.countplot(x=target, data=tr, ax=ax[0], palette=colors, alpha=0.7, hue=target, dodge=False)\n",
    "        sns.countplot(x=target, data=pr, ax=ax[1], palette=colors, alpha=0.7, hue=target, dodge=False)\n",
    "        \n",
    "        fig.suptitle('True v.s. Predicted Comarison', fontsize=12)\n",
    "        \n",
    "        ax[0].tick_params(labelsize=8)\n",
    "        ax[1].tick_params(labelsize=8)\n",
    "        ax[0].set_title(\"True values\", fontsize=10)\n",
    "        ax[1].set_title(\"Predicted values\", fontsize=10)\n",
    "        plt.show()"
   ]
  },
  {
   "cell_type": "markdown",
   "metadata": {},
   "source": [
    "## Test on Iris dataset"
   ]
  },
  {
   "cell_type": "code",
   "execution_count": 3,
   "metadata": {},
   "outputs": [
    {
     "data": {
      "text/html": [
       "<div>\n",
       "<style scoped>\n",
       "    .dataframe tbody tr th:only-of-type {\n",
       "        vertical-align: middle;\n",
       "    }\n",
       "\n",
       "    .dataframe tbody tr th {\n",
       "        vertical-align: top;\n",
       "    }\n",
       "\n",
       "    .dataframe thead th {\n",
       "        text-align: right;\n",
       "    }\n",
       "</style>\n",
       "<table border=\"1\" class=\"dataframe\">\n",
       "  <thead>\n",
       "    <tr style=\"text-align: right;\">\n",
       "      <th></th>\n",
       "      <th>sepal.length</th>\n",
       "      <th>sepal.width</th>\n",
       "      <th>petal.length</th>\n",
       "      <th>petal.width</th>\n",
       "      <th>variety</th>\n",
       "    </tr>\n",
       "  </thead>\n",
       "  <tbody>\n",
       "    <tr>\n",
       "      <th>0</th>\n",
       "      <td>5.1</td>\n",
       "      <td>3.5</td>\n",
       "      <td>1.4</td>\n",
       "      <td>0.2</td>\n",
       "      <td>Iris-setosa</td>\n",
       "    </tr>\n",
       "    <tr>\n",
       "      <th>1</th>\n",
       "      <td>4.9</td>\n",
       "      <td>3.0</td>\n",
       "      <td>1.4</td>\n",
       "      <td>0.2</td>\n",
       "      <td>Iris-setosa</td>\n",
       "    </tr>\n",
       "    <tr>\n",
       "      <th>2</th>\n",
       "      <td>4.7</td>\n",
       "      <td>3.2</td>\n",
       "      <td>1.3</td>\n",
       "      <td>0.2</td>\n",
       "      <td>Iris-setosa</td>\n",
       "    </tr>\n",
       "    <tr>\n",
       "      <th>3</th>\n",
       "      <td>4.6</td>\n",
       "      <td>3.1</td>\n",
       "      <td>1.5</td>\n",
       "      <td>0.2</td>\n",
       "      <td>Iris-setosa</td>\n",
       "    </tr>\n",
       "    <tr>\n",
       "      <th>4</th>\n",
       "      <td>5.0</td>\n",
       "      <td>3.6</td>\n",
       "      <td>1.4</td>\n",
       "      <td>0.2</td>\n",
       "      <td>Iris-setosa</td>\n",
       "    </tr>\n",
       "  </tbody>\n",
       "</table>\n",
       "</div>"
      ],
      "text/plain": [
       "   sepal.length  sepal.width  petal.length  petal.width      variety\n",
       "0           5.1          3.5           1.4          0.2  Iris-setosa\n",
       "1           4.9          3.0           1.4          0.2  Iris-setosa\n",
       "2           4.7          3.2           1.3          0.2  Iris-setosa\n",
       "3           4.6          3.1           1.5          0.2  Iris-setosa\n",
       "4           5.0          3.6           1.4          0.2  Iris-setosa"
      ]
     },
     "execution_count": 3,
     "metadata": {},
     "output_type": "execute_result"
    }
   ],
   "source": [
    "iris_url = \"https://archive.ics.uci.edu/ml/machine-learning-databases/iris/iris.data\"\n",
    "iris = pd.read_csv(iris_url, header=None)\n",
    "header=['sepal.length','sepal.width','petal.length','petal.width','variety']\n",
    "iris.columns=header\n",
    "iris.head()"
   ]
  },
  {
   "cell_type": "code",
   "execution_count": 4,
   "metadata": {},
   "outputs": [
    {
     "name": "stdout",
     "output_type": "stream",
     "text": [
      "iris DataFrame shape is (150, 5)\n",
      "X_train shape is (120, 4)\n",
      "X_test shape is (30, 4)\n",
      "y_train shape is (120,)\n",
      "y_test shape is (30,)\n"
     ]
    }
   ],
   "source": [
    "# randomly shuffle iris dataset with sampling\n",
    "iris = iris.sample(frac=1, random_state=7).reset_index(drop=True)\n",
    "# DataFrame shape\n",
    "print(f'iris DataFrame shape is',iris.shape)\n",
    "\n",
    "# set features and target\n",
    "X, y = iris.iloc[:,:-1], iris.iloc[:, -1]\n",
    "# split data into train and test sets 80%-20%\n",
    "X_train, X_test, y_train, y_test = X[:120], X[120:], y[:120], y[120:]\n",
    "\n",
    "print(f'X_train shape is',X_train.shape)\n",
    "print(f'X_test shape is',X_test.shape)\n",
    "print(f'y_train shape is',y_train.shape)\n",
    "print(f'y_test shape is',y_test.shape)"
   ]
  },
  {
   "cell_type": "code",
   "execution_count": 5,
   "metadata": {},
   "outputs": [
    {
     "name": "stdout",
     "output_type": "stream",
     "text": [
      "accuracy of Naïve Bayes Classifier is: 0.9666666666666667\n"
     ]
    }
   ],
   "source": [
    "# train the model\n",
    "nb = NaiveBayesClassifier()\n",
    "nb.fit(X_train, y_train)\n",
    "pred = nb.predict(X_test)\n",
    "print(f'accuracy of Naïve Bayes Classifier is:', nb.accuracy(y_test, pred))"
   ]
  },
  {
   "cell_type": "code",
   "execution_count": 6,
   "metadata": {},
   "outputs": [
    {
     "data": {
      "image/png": "[encoded data removed]",
      "text/plain": [
       "<Figure size 1152x360 with 2 Axes>"
      ]
     },
     "metadata": {},
     "output_type": "display_data"
    }
   ],
   "source": [
    "nb.visualize(y_test, pred, 'variety')"
   ]
  },
  {
   "cell_type": "markdown",
   "metadata": {},
   "source": [
    "## Test on Spambase dataset"
   ]
  },
  {
   "cell_type": "code",
   "execution_count": 7,
   "metadata": {},
   "outputs": [
    {
     "name": "stdout",
     "output_type": "stream",
     "text": [
      "<class 'pandas.core.frame.DataFrame'>\n",
      "RangeIndex: 4601 entries, 0 to 4600\n",
      "Data columns (total 58 columns):\n",
      " #   Column                      Non-Null Count  Dtype  \n",
      "---  ------                      --------------  -----  \n",
      " 0   word_freq_make              4601 non-null   float64\n",
      " 1   word_freq_addre             4601 non-null   float64\n",
      " 2   word_freq_all               4601 non-null   float64\n",
      " 3   word_freq_3d                4601 non-null   float64\n",
      " 4   word_freq_our               4601 non-null   float64\n",
      " 5   word_freq_over              4601 non-null   float64\n",
      " 6   word_freq_remove            4601 non-null   float64\n",
      " 7   word_freq_interne           4601 non-null   float64\n",
      " 8   word_freq_order             4601 non-null   float64\n",
      " 9   word_freq_mail              4601 non-null   float64\n",
      " 10  word_freq_receive           4601 non-null   float64\n",
      " 11  word_freq_will              4601 non-null   float64\n",
      " 12  word_freq_people            4601 non-null   float64\n",
      " 13  word_freq_repor             4601 non-null   float64\n",
      " 14  word_freq_addresse          4601 non-null   float64\n",
      " 15  word_freq_free              4601 non-null   float64\n",
      " 16  word_freq_busine            4601 non-null   float64\n",
      " 17  word_freq_email             4601 non-null   float64\n",
      " 18  word_freq_y                 4601 non-null   float64\n",
      " 19  word_freq_cred              4601 non-null   float64\n",
      " 20  word_freq_your              4601 non-null   float64\n",
      " 21  word_freq_f                 4601 non-null   float64\n",
      " 22  word_freq_000               4601 non-null   float64\n",
      " 23  word_freq_money             4601 non-null   float64\n",
      " 24  word_freq_hp                4601 non-null   float64\n",
      " 25  word_freq_hpl               4601 non-null   float64\n",
      " 26  word_freq_george            4601 non-null   float64\n",
      " 27  word_freq_650               4601 non-null   float64\n",
      " 28  word_freq_lab               4601 non-null   float64\n",
      " 29  word_freq_lab               4601 non-null   float64\n",
      " 30  word_freq_telne             4601 non-null   float64\n",
      " 31  word_freq_857               4601 non-null   float64\n",
      " 32  word_freq_data              4601 non-null   float64\n",
      " 33  word_freq_415               4601 non-null   float64\n",
      " 34  word_freq_85                4601 non-null   float64\n",
      " 35  word_freq_technology        4601 non-null   float64\n",
      " 36  word_freq_1999              4601 non-null   float64\n",
      " 37  word_freq_par               4601 non-null   float64\n",
      " 38  word_freq_pm                4601 non-null   float64\n",
      " 39  word_freq_dire              4601 non-null   float64\n",
      " 40  word_freq_                  4601 non-null   float64\n",
      " 41  word_freq_meeting           4601 non-null   float64\n",
      " 42  word_freq_original          4601 non-null   float64\n",
      " 43  word_freq_proje             4601 non-null   float64\n",
      " 44  word_freq_re                4601 non-null   float64\n",
      " 45  word_freq_ed                4601 non-null   float64\n",
      " 46  word_freq_table             4601 non-null   float64\n",
      " 47  word_freq_conference        4601 non-null   float64\n",
      " 48  char_freq_;                 4601 non-null   float64\n",
      " 49  char_freq_(                 4601 non-null   float64\n",
      " 50  char_freq_[                 4601 non-null   float64\n",
      " 51  char_freq_!                 4601 non-null   float64\n",
      " 52  char_freq_$                 4601 non-null   float64\n",
      " 53  char_freq_#                 4601 non-null   float64\n",
      " 54  capital_run_length_average  4601 non-null   float64\n",
      " 55  capital_run_length_longe    4601 non-null   int64  \n",
      " 56  capital_run_length_total    4601 non-null   int64  \n",
      " 57  spam                        4601 non-null   int64  \n",
      "dtypes: float64(55), int64(3)\n",
      "memory usage: 2.0 MB\n"
     ]
    }
   ],
   "source": [
    "# Import Dataset\n",
    "spam_url=\"https://archive.ics.uci.edu/ml/machine-learning-databases/spambase/spambase.data\"\n",
    "emails=pd.read_csv(spam_url, header=None)\n",
    "\n",
    "# Import data column description\n",
    "document_url=\"https://archive.ics.uci.edu/ml/machine-learning-databases/spambase/spambase.names\"\n",
    "document=pd.read_fwf(document_url, header=None).values.tolist()\n",
    "lst=document[-57:]\n",
    "header=[]\n",
    "\n",
    "for i in range(57):\n",
    "    f=' '.join(lst[i]).rstrip(': continuous.')\n",
    "    header.append(f)\n",
    "\n",
    "header.append('spam')\n",
    "emails.columns=header\n",
    "\n",
    "emails.info()"
   ]
  },
  {
   "cell_type": "code",
   "execution_count": 8,
   "metadata": {},
   "outputs": [
    {
     "name": "stdout",
     "output_type": "stream",
     "text": [
      "X_train shape is (3680, 57)\n",
      "X_test shape is (921, 57)\n",
      "y_train shape is (3680,)\n",
      "y_test shape is (921,)\n"
     ]
    }
   ],
   "source": [
    "#  Train Test Split\n",
    "emails =  emails.sample(frac=1, random_state=7).reset_index(drop=True)\n",
    "\n",
    "X=emails.drop('spam', axis=1)\n",
    "y=emails['spam']\n",
    "\n",
    "# split data into train and test sets 80%-20%\n",
    "X_train, X_test, y_train, y_test = X[:3680], X[3680:], y[:3680], y[3680:]\n",
    "\n",
    "print(f'X_train shape is',X_train.shape)\n",
    "print(f'X_test shape is',X_test.shape)\n",
    "print(f'y_train shape is',y_train.shape)\n",
    "print(f'y_test shape is',y_test.shape)"
   ]
  },
  {
   "cell_type": "code",
   "execution_count": 9,
   "metadata": {},
   "outputs": [
    {
     "name": "stdout",
     "output_type": "stream",
     "text": [
      "accuracy of Naïve Bayes Classifier is: 0.7861020629750272\n"
     ]
    }
   ],
   "source": [
    "nb.fit(X_train, y_train)\n",
    "pred_spam = nb.predict(X_test)\n",
    "print(f'accuracy of Naïve Bayes Classifier is:', nb.accuracy(y_test, pred_spam))"
   ]
  },
  {
   "cell_type": "code",
   "execution_count": 10,
   "metadata": {},
   "outputs": [
    {
     "data": {
      "image/png": "[encoded data removed]",
      "text/plain": [
       "<Figure size 1152x360 with 2 Axes>"
      ]
     },
     "metadata": {},
     "output_type": "display_data"
    }
   ],
   "source": [
    "nb.visualize(y_test, pred_spam, 'spam')"
   ]
  },
  {
   "cell_type": "markdown",
   "metadata": {},
   "source": [
    "Our Naïve Bayes Classifier performs poor in the spambase dataset."
   ]
  },
  {
   "cell_type": "markdown",
   "metadata": {},
   "source": [
    "### Compare to Naïve Bayes Classifier in Sklearn"
   ]
  },
  {
   "cell_type": "code",
   "execution_count": 11,
   "metadata": {},
   "outputs": [
    {
     "name": "stdout",
     "output_type": "stream",
     "text": [
      "BernoulliNB for precense with Laplace smoothing strength alpha=1.0 \n",
      "\n",
      "Accuracy for Laplace smoothing strength alpha=1.0:  0.8816503800217155\n",
      "\n",
      "\n",
      "Confusion matrix for Laplace smoothing strength alpha=1.0:  \n",
      " [[519  33]\n",
      " [ 76 293]]\n",
      "\n",
      "\n",
      "Classification report for Laplace smoothing strength alpha=1.0:  \n",
      "               precision    recall  f1-score   support\n",
      "\n",
      "           0       0.87      0.94      0.90       552\n",
      "           1       0.90      0.79      0.84       369\n",
      "\n",
      "    accuracy                           0.88       921\n",
      "   macro avg       0.89      0.87      0.87       921\n",
      "weighted avg       0.88      0.88      0.88       921\n",
      "\n",
      "===================================\n",
      "GaussianNB for frequency counts \n",
      "\n",
      "Accuracy for GaussianNB:  0.8816503800217155\n",
      "\n",
      "\n",
      "Confusion matrix for GaussianNB with Laplace smoothing:  \n",
      " [[519  33]\n",
      " [ 76 293]]\n",
      "\n",
      "\n",
      "Classification report for GaussianNB with Laplace smoothing:  \n",
      "               precision    recall  f1-score   support\n",
      "\n",
      "           0       0.87      0.94      0.90       552\n",
      "           1       0.90      0.79      0.84       369\n",
      "\n",
      "    accuracy                           0.88       921\n",
      "   macro avg       0.89      0.87      0.87       921\n",
      "weighted avg       0.88      0.88      0.88       921\n",
      "\n"
     ]
    }
   ],
   "source": [
    "import sklearn\n",
    "from sklearn.metrics import accuracy_score\n",
    "from sklearn.metrics import confusion_matrix\n",
    "from sklearn.metrics import classification_report\n",
    "from sklearn.model_selection import train_test_split\n",
    "from sklearn.naive_bayes import GaussianNB\n",
    "from sklearn.naive_bayes import BernoulliNB\n",
    "\n",
    "# for Laplace smoothing strength alpha=1.0\n",
    "print('BernoulliNB for precense with Laplace smoothing strength alpha=1.0', '\\n')\n",
    "bnb=BernoulliNB(alpha=1.0)\n",
    "bnb.fit(X_train, y_train)\n",
    "bnb_pred1=bnb.predict(X_test)\n",
    "bnb_accuracy_score1=accuracy_score(y_test, bnb_pred1)\n",
    "bnb_confusion_matrix1=confusion_matrix(y_test, bnb_pred1)\n",
    "bnb_classification_report1=classification_report(y_test, bnb_pred1)\n",
    "print(f'Accuracy for Laplace smoothing strength alpha=1.0: ', bnb_accuracy_score1)\n",
    "print('\\n')\n",
    "print(f'Confusion matrix for Laplace smoothing strength alpha=1.0: ','\\n', bnb_confusion_matrix1)\n",
    "print('\\n')\n",
    "print(f'Classification report for Laplace smoothing strength alpha=1.0: ','\\n', bnb_classification_report1)\n",
    "print('===================================')\n",
    "\n",
    "# for GaussianNB\n",
    "print('GaussianNB for frequency counts', '\\n')\n",
    "gnb=GaussianNB()\n",
    "gnb.fit(X_train, y_train)\n",
    "gnb_pred=bnb.predict(X_test)\n",
    "gnb_accuracy_score=accuracy_score(y_test, gnb_pred)\n",
    "gnb_confusion_matrix=confusion_matrix(y_test, gnb_pred)\n",
    "gnb_classification_report=classification_report(y_test, gnb_pred)\n",
    "print(f'Accuracy for GaussianNB: ', gnb_accuracy_score)\n",
    "print('\\n')\n",
    "print(f'Confusion matrix for GaussianNB with Laplace smoothing: ','\\n', gnb_confusion_matrix)\n",
    "print('\\n')\n",
    "print(f'Classification report for GaussianNB with Laplace smoothing: ','\\n', gnb_classification_report)"
   ]
  }
 ],
 "metadata": {
  "kernelspec": {
   "display_name": "Python 3",
   "language": "python",
   "name": "python3"
  },
  "language_info": {
   "codemirror_mode": {
    "name": "ipython",
    "version": 3
   },
   "file_extension": ".py",
   "mimetype": "text/x-python",
   "name": "python",
   "nbconvert_exporter": "python",
   "pygments_lexer": "ipython3",
   "version": "3.8.3"
  }
 },
 "nbformat": 4,
 "nbformat_minor": 4
}
